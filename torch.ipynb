{
 "cells": [
  {
   "cell_type": "code",
   "execution_count": 1,
   "metadata": {},
   "outputs": [
    {
     "name": "stderr",
     "output_type": "stream",
     "text": [
      "d:\\github\\llm\\.venv\\Lib\\site-packages\\tqdm\\auto.py:21: TqdmWarning: IProgress not found. Please update jupyter and ipywidgets. See https://ipywidgets.readthedocs.io/en/stable/user_install.html\n",
      "  from .autonotebook import tqdm as notebook_tqdm\n"
     ]
    }
   ],
   "source": [
    "import torch\n",
    "from transformers import AutoModelForCausalLM, AutoTokenizer\n",
    "from safetensors.torch import load_file\n",
    "import os"
   ]
  },
  {
   "cell_type": "code",
   "execution_count": 2,
   "metadata": {},
   "outputs": [],
   "source": [
    "# Define the paths\n",
    "safetensors_paths = [\n",
    "    \"./AVA/model-00001-of-00004.safetensors\",\n",
    "    \"./AVA/model-00002-of-00004.safetensors\",\n",
    "    \"./AVA/model-00003-of-00004.safetensors\",\n",
    "    \"./AVA/model-00004-of-00004.safetensors\",\n",
    "    # Add paths to other safetensors files if there are more parts\n",
    "]\n",
    "output_bin_path = \"./model.bin\"\n",
    "config_path = \"./AVA/config.json\"\n",
    "\n",
    "# Initialize an empty state_dict\n",
    "combined_state_dict = {}\n",
    "\n",
    "# Load and combine all safetensors files\n",
    "for path in safetensors_paths:\n",
    "    state_dict = load_file(path)\n",
    "    combined_state_dict.update(state_dict)"
   ]
  },
  {
   "cell_type": "code",
   "execution_count": 2,
   "metadata": {},
   "outputs": [
    {
     "name": "stderr",
     "output_type": "stream",
     "text": [
      "Loading checkpoint shards: 100%|██████████| 4/4 [00:59<00:00, 14.87s/it]\n"
     ]
    }
   ],
   "source": [
    "# Load the model configuration\n",
    "#config = AutoModelForCausalLM.config_class.from_json_file(config_path)\n",
    "\n",
    "# Create the model and load the combined state dict\n",
    "model = AutoModelForCausalLM.from_pretrained('AVA', use_safetensors=True)"
   ]
  },
  {
   "cell_type": "code",
   "execution_count": 4,
   "metadata": {},
   "outputs": [],
   "source": [
    "# Save the model to a PyTorch .bin file\n",
    "torch.save(model.state_dict(), \"model.bin\")"
   ]
  }
 ],
 "metadata": {
  "kernelspec": {
   "display_name": "Python 3",
   "language": "python",
   "name": "python3"
  },
  "language_info": {
   "codemirror_mode": {
    "name": "ipython",
    "version": 3
   },
   "file_extension": ".py",
   "mimetype": "text/x-python",
   "name": "python",
   "nbconvert_exporter": "python",
   "pygments_lexer": "ipython3",
   "version": "3.12.1"
  }
 },
 "nbformat": 4,
 "nbformat_minor": 2
}
